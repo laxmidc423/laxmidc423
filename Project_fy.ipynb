{
  "nbformat": 4,
  "nbformat_minor": 0,
  "metadata": {
    "colab": {
      "provenance": [],
      "authorship_tag": "ABX9TyOaf6rpL9MxJlyAkmt9vJ2d",
      "include_colab_link": true
    },
    "kernelspec": {
      "name": "python3",
      "display_name": "Python 3"
    },
    "language_info": {
      "name": "python"
    }
  },
  "cells": [
    {
      "cell_type": "markdown",
      "metadata": {
        "id": "view-in-github",
        "colab_type": "text"
      },
      "source": [
        "<a href=\"https://colab.research.google.com/github/laxmidc423/laxmidc423/blob/main/Project_fy.ipynb\" target=\"_parent\"><img src=\"https://colab.research.google.com/assets/colab-badge.svg\" alt=\"Open In Colab\"/></a>"
      ]
    },
    {
      "cell_type": "code",
      "execution_count": 38,
      "metadata": {
        "id": "r52KfnWbNo9t"
      },
      "outputs": [],
      "source": [
        "import pandas as pd\n",
        "import math\n"
      ]
    },
    {
      "cell_type": "code",
      "source": [
        "# Define Dijkstra's algorithm to find the shortest path\n",
        "def dijkstra(graph, initial, destination):\n",
        "    distances = {vertex: math.inf for vertex in graph}\n",
        "    distances[initial] = 0\n",
        "    visited = set()\n",
        "    while True:\n",
        "        # Find the nearest unvisited node\n",
        "        nearest_vertex = min((distance, vertex) for (vertex, distance) in distances.items() if vertex not in visited)[1]\n",
        "        if nearest_vertex == destination or distances[nearest_vertex] == math.inf:\n",
        "            break\n",
        "        visited.add(nearest_vertex)\n",
        "        # Update distances to adjacent nodes\n",
        "        for vertex, distance in graph[nearest_vertex].items():\n",
        "            if vertex not in visited:\n",
        "                new_distance = distances[nearest_vertex] + distance\n",
        "                if new_distance < distances[vertex]:\n",
        "                    distances[vertex] = new_distance\n",
        "    shortest_distance = distances.get(destination)\n",
        "    return shortest_distance\n"
      ],
      "metadata": {
        "id": "Gfu8hYj4N0xm"
      },
      "execution_count": 39,
      "outputs": []
    },
    {
      "cell_type": "code",
      "source": [
        "def main():\n",
        "    # Read the dataset from CSV file\n",
        "    df = pd.read_csv(\"Hospitals_in_Pune_dataset.csv\")\n",
        "\n",
        "\n",
        "    # Create a dictionary of graph from the dataframe\n",
        "    graph = {}\n",
        "    for index, row in df.iterrows():\n",
        "        source = row[\"Location_of_Patient\"]\n",
        "        destination = row[\"Final_Destination_Nearest_Hospital\"]\n",
        "        if source not in graph:\n",
        "            graph[source] = {}\n",
        "        if destination not in graph:\n",
        "            graph[destination] = {}\n",
        "        graph[source][destination] = row[\"Distance_km\"] / row[\"Traffic_Level_Percentage\"]\n",
        "\n",
        "    # Input initial location from user\n",
        "    initial_location = input(\"Enter initial location: \")\n",
        "\n",
        "    # Check if the entered location is in the dataset\n",
        "    if initial_location not in graph:\n",
        "        print(\"Entered location is not in the dataset.\")\n",
        "        return\n",
        "\n",
        "    # Initialize variables to track the nearest destination and its distance\n",
        "    nearest_destination = None\n",
        "    nearest_distance = math.inf\n",
        "\n",
        "    # Calculate shortest paths to all destinations\n",
        "    for destination in graph:\n",
        "        # Skip the source location\n",
        "        if destination == initial_location:\n",
        "            continue\n",
        "\n",
        "        shortest_distance = dijkstra(graph, initial_location, destination)\n",
        "\n",
        "        # Update nearest destination if a shorter path is found\n",
        "        if shortest_distance is not None and shortest_distance < nearest_distance:\n",
        "            nearest_destination = destination\n",
        "            nearest_distance = shortest_distance\n",
        "\n",
        "    # Print the nearest destination and its distance\n",
        "    if nearest_destination:\n",
        "        print(f\"The nearest destination from {initial_location} is {nearest_destination} with a distance of {nearest_distance:.2f} km.\")\n",
        "    else:\n",
        "        print(f\"No destination reachable from {initial_location}.\")\n",
        "\n",
        "if __name__ == \"__main__\":\n",
        "    main()\n"
      ],
      "metadata": {
        "colab": {
          "base_uri": "https://localhost:8080/"
        },
        "id": "1XzH2mJ9N3o7",
        "outputId": "8d11f34c-507b-4d9b-f282-f90adb09bbae"
      },
      "execution_count": 40,
      "outputs": [
        {
          "output_type": "stream",
          "name": "stdout",
          "text": [
            "Enter initial location: Nigdi\n",
            "The nearest destination from Nigdi is Sahyadri Super Speciality Hospital with a distance of 0.11 km.\n"
          ]
        }
      ]
    },
    {
      "cell_type": "code",
      "source": [
        "def main():\n",
        "    # Read the dataset from CSV file\n",
        "    df = pd.read_csv(\"Hospitals_in_Pune_dataset.csv\")\n",
        "\n",
        "\n",
        "    # Create a dictionary of graph from the dataframe\n",
        "    graph = {}\n",
        "    for index, row in df.iterrows():\n",
        "        source = row[\"Location_of_Patient\"]\n",
        "        destination = row[\"Final_Destination_Nearest_Hospital\"]\n",
        "        if source not in graph:\n",
        "            graph[source] = {}\n",
        "        if destination not in graph:\n",
        "            graph[destination] = {}\n",
        "        graph[source][destination] = row[\"Distance_km\"] / row[\"Traffic_Level_Percentage\"]\n",
        "\n",
        "    # Input initial location from user\n",
        "    initial_location = input(\"Enter initial location: \")\n",
        "\n",
        "    # Check if the entered location is in the dataset\n",
        "    if initial_location not in graph:\n",
        "        print(\"Entered location is not in the dataset.\")\n",
        "        return\n",
        "\n",
        "    # Initialize variables to track the nearest destination and its distance\n",
        "    nearest_destination = None\n",
        "    nearest_distance = math.inf\n",
        "\n",
        "    # Calculate shortest paths to all destinations\n",
        "    for destination in graph:\n",
        "        # Skip the source location\n",
        "        if destination == initial_location:\n",
        "            continue\n",
        "\n",
        "        shortest_distance = dijkstra(graph, initial_location, destination)\n",
        "\n",
        "        # Update nearest destination if a shorter path is found\n",
        "        if shortest_distance is not None and shortest_distance < nearest_distance:\n",
        "            nearest_destination = destination\n",
        "            nearest_distance = shortest_distance\n",
        "\n",
        "    # Print the nearest destination and its distance\n",
        "    if nearest_destination:\n",
        "        print(f\"The nearest destination from {initial_location} is {nearest_destination} with a distance of {nearest_distance:.2f} km.\")\n",
        "    else:\n",
        "        print(f\"No destination reachable from {initial_location}.\")\n",
        "\n",
        "if __name__ == \"__main__\":\n",
        "  main()\n"
      ],
      "metadata": {
        "colab": {
          "base_uri": "https://localhost:8080/"
        },
        "id": "8hmA45a6QPt4",
        "outputId": "d89decaf-0879-48b2-df99-7790ea0d77b7"
      },
      "execution_count": 41,
      "outputs": [
        {
          "output_type": "stream",
          "name": "stdout",
          "text": [
            "Enter initial location: Daund\n",
            "Entered location is not in the dataset.\n"
          ]
        }
      ]
    },
    {
      "cell_type": "code",
      "source": [
        "def main():\n",
        "    # Read the dataset from CSV file\n",
        "    df = pd.read_csv(\"Hospitals_in_Pune_dataset.csv\")\n",
        "\n",
        "\n",
        "    # Create a dictionary of graph from the dataframe\n",
        "    graph = {}\n",
        "    for index, row in df.iterrows():\n",
        "        source = row[\"Location_of_Patient\"]\n",
        "        destination = row[\"Final_Destination_Nearest_Hospital\"]\n",
        "        if source not in graph:\n",
        "            graph[source] = {}\n",
        "        if destination not in graph:\n",
        "            graph[destination] = {}\n",
        "        graph[source][destination] = row[\"Distance_km\"] / row[\"Traffic_Level_Percentage\"]\n",
        "\n",
        "    # Input initial location from user\n",
        "    initial_location = input(\"Enter initial location: \")\n",
        "\n",
        "    # Check if the entered location is in the dataset\n",
        "    if initial_location not in graph:\n",
        "        print(\"Entered location is not in the dataset.\")\n",
        "        return\n",
        "\n",
        "    # Initialize variables to track the nearest destination and its distance\n",
        "    nearest_destination = None\n",
        "    nearest_distance = math.inf\n",
        "\n",
        "    # Calculate shortest paths to all destinations\n",
        "    for destination in graph:\n",
        "        # Skip the source location\n",
        "        if destination == initial_location:\n",
        "            continue\n",
        "\n",
        "        shortest_distance = dijkstra(graph, initial_location, destination)\n",
        "\n",
        "        # Update nearest destination if a shorter path is found\n",
        "        if shortest_distance is not None and shortest_distance < nearest_distance:\n",
        "            nearest_destination = destination\n",
        "            nearest_distance = shortest_distance\n",
        "\n",
        "    # Print the nearest destination and its distance\n",
        "    if nearest_destination:\n",
        "        print(f\"The nearest destination from {initial_location} is {nearest_destination} with a distance of {nearest_distance:.2f} km.\")\n",
        "    else:\n",
        "        print(f\"No destination reachable from {initial_location}.\")\n",
        "\n",
        "if __name__ == \"__main__\":\n",
        "  main()\n"
      ],
      "metadata": {
        "colab": {
          "base_uri": "https://localhost:8080/"
        },
        "id": "zpMvWo1yRbEX",
        "outputId": "884fbb08-d29e-4c0d-e31c-1db9e3460a81"
      },
      "execution_count": 42,
      "outputs": [
        {
          "output_type": "stream",
          "name": "stdout",
          "text": [
            "Enter initial location: Wakad\n",
            "The nearest destination from Wakad is Samvedan Hospital with a distance of 0.14 km.\n"
          ]
        }
      ]
    },
    {
      "cell_type": "code",
      "source": [],
      "metadata": {
        "id": "wnhZIsKERgTv"
      },
      "execution_count": 27,
      "outputs": []
    },
    {
      "cell_type": "code",
      "source": [],
      "metadata": {
        "id": "Yb7DHz-4SjUH"
      },
      "execution_count": 26,
      "outputs": []
    }
  ]
}